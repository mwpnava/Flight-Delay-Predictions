{
 "cells": [
  {
   "cell_type": "markdown",
   "id": "1daf5f3f",
   "metadata": {},
   "source": [
    "## Mapping Airlines and Airports\n",
    "\n",
    "This code creates the files for mapping airlines and airports name with a numerical value. Those files are used by streamlit programs."
   ]
  },
  {
   "cell_type": "code",
   "execution_count": 1,
   "id": "363ad9f6",
   "metadata": {},
   "outputs": [],
   "source": [
    "import pandas as pd\n",
    "import numpy as np\n",
    "import seaborn as sns"
   ]
  },
  {
   "cell_type": "code",
   "execution_count": 2,
   "id": "668b57aa",
   "metadata": {},
   "outputs": [],
   "source": [
    "airlines = pd.read_csv('./data/airlines.csv', index_col = False)\n",
    "airports = pd.read_csv('./data/airports.csv', index_col = False)\n",
    "\n",
    "file = './data/df_flight_weather_8.csv'\n",
    "df = pd.read_csv(file)\n",
    "\n",
    "resampleDF = pd.read_csv('./data/resampledDF.csv')"
   ]
  },
  {
   "cell_type": "code",
   "execution_count": 3,
   "id": "12bb302f",
   "metadata": {},
   "outputs": [],
   "source": [
    "# Encoding the object as a numerical type.\n",
    "\n",
    "code_airlines, uniques_airlines = pd.factorize(df['AIRLINE'])\n",
    "df['AIRLINE_CODE'] = code_airlines\n",
    "\n",
    "code_airport, unique_airport = pd.factorize(df['ORIGIN_AIRPORT'])\n",
    "df['ORIGIN_AIRPORT_CODE'] = code_airport\n",
    "\n",
    "code_dairport, unique_dairport = pd.factorize(df['DESTINATION_AIRPORT'])\n",
    "df['DESTINATION_AIRPORT_CODE'] = code_dairport"
   ]
  },
  {
   "cell_type": "code",
   "execution_count": 4,
   "id": "dc1a619d",
   "metadata": {},
   "outputs": [],
   "source": [
    "# Creating a map for destination airport\n",
    "\n",
    "dest_airport = pd.unique(df[['DESTINATION_AIRPORT', 'DESTINATION_AIRPORT_CODE']].values.ravel())\n",
    "\n",
    "dest_airport_initials = []\n",
    "dest_airport_code = []\n",
    "\n",
    "i=0\n",
    "while i < len(dest_airport):\n",
    "    dest_airport_initials.append(dest_airport[i])\n",
    "    dest_airport_code.append(dest_airport[i+1])\n",
    "    i+=2\n",
    "\n",
    "    \n",
    "dest_airportDF = pd.DataFrame(data={'IATA_CODE': dest_airport_initials, 'DESTINATION_AIRPORT_CODE': dest_airport_code})\n",
    "dest_airportMap = dest_airportDF.merge(airports[['IATA_CODE', 'AIRPORT']], how='inner', on='IATA_CODE')\n",
    "\n",
    "# Writing map into .csv file\n",
    "dest_airportMap.to_csv('./data/destinAirportMap.csv', index=False)"
   ]
  },
  {
   "cell_type": "code",
   "execution_count": 5,
   "id": "34294c4f",
   "metadata": {},
   "outputs": [],
   "source": [
    "# Creating a map for origin airport\n",
    "\n",
    "orig_airport = pd.unique(df[['ORIGIN_AIRPORT', 'ORIGIN_AIRPORT_CODE']].values.ravel())\n",
    "\n",
    "orig_airport_initials = []\n",
    "orig_airport_code = []\n",
    "\n",
    "i=0\n",
    "while i < len(orig_airport):\n",
    "    orig_airport_initials.append(orig_airport[i])\n",
    "    orig_airport_code.append(orig_airport[i+1])\n",
    "    i+=2\n",
    "\n",
    "    \n",
    "origin_airportDF = pd.DataFrame(data={'IATA_CODE': orig_airport_initials, 'ORIGIN_AIRPORT_CODE': orig_airport_code})\n",
    "origin_airportMap = origin_airportDF.merge(airports[['IATA_CODE', 'AIRPORT']], how='inner', on='IATA_CODE')\n",
    "\n",
    "# Writing map into .csv file\n",
    "origin_airportMap.to_csv('./data/originAirportMap.csv', index=False)"
   ]
  },
  {
   "cell_type": "code",
   "execution_count": 6,
   "id": "652cc8bc",
   "metadata": {},
   "outputs": [],
   "source": [
    "# Creating a map for airlines\n",
    "\n",
    "airline = pd.unique(df[['AIRLINE', 'AIRLINE_CODE']].values.ravel())\n",
    "\n",
    "airline_initials = []\n",
    "airline_code = []\n",
    "\n",
    "i=0\n",
    "while i < len(airline):\n",
    "    airline_initials.append(airline[i])\n",
    "    airline_code.append(airline[i+1])\n",
    "    i+=2\n",
    "\n",
    "    \n",
    "airlinesDF = pd.DataFrame(data={'IATA_CODE': airline_initials, 'AIRLINE_CODE': airline_code})\n",
    "airlinesMap = airlinesDF.merge(airlines, how='inner', on='IATA_CODE')\n",
    "\n",
    "# Writing map into .csv file\n",
    "airlinesMap.to_csv('./data/airlinesMap.csv', index=False)"
   ]
  },
  {
   "cell_type": "code",
   "execution_count": null,
   "id": "0425019d",
   "metadata": {},
   "outputs": [],
   "source": []
  }
 ],
 "metadata": {
  "kernelspec": {
   "display_name": "Python 3 (ipykernel)",
   "language": "python",
   "name": "python3"
  },
  "language_info": {
   "codemirror_mode": {
    "name": "ipython",
    "version": 3
   },
   "file_extension": ".py",
   "mimetype": "text/x-python",
   "name": "python",
   "nbconvert_exporter": "python",
   "pygments_lexer": "ipython3",
   "version": "3.9.0"
  }
 },
 "nbformat": 4,
 "nbformat_minor": 5
}
