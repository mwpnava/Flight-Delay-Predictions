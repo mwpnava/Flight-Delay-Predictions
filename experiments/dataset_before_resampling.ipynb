{
 "cells": [
  {
   "cell_type": "code",
   "execution_count": null,
   "metadata": {},
   "outputs": [],
   "source": [
    "import pandas as pd"
   ]
  },
  {
   "cell_type": "code",
   "execution_count": null,
   "metadata": {},
   "outputs": [],
   "source": [
    "df = pd.read_csv('../datasets/df_flight_weather_8.csv')"
   ]
  },
  {
   "cell_type": "code",
   "execution_count": null,
   "metadata": {},
   "outputs": [],
   "source": [
    "\n",
    "#rename ARRIVAL_DELAY_MIN_CAT_2 to CATEGORY\n",
    "df = df.rename(columns={'ARRIVAL_DELAY_MIN_CAT_2': 'CATEGORY'})\n",
    "\n",
    "code_airlines, uniques_airlines = pd.factorize(df['AIRLINE'])\n",
    "df['AIRLINE_CODE'] = code_airlines\n",
    "\n",
    "code_airport, unique_airport = pd.factorize(df['ORIGIN_AIRPORT'])\n",
    "df['ORIGIN_AIRPORT_CODE'] = code_airport\n",
    "\n",
    "code_dairport, unique_dairport = pd.factorize(df['DESTINATION_AIRPORT'])\n",
    "df['DESTINATION_AIRPORT_CODE'] = code_dairport\n",
    "df = df[['SCHEDULED_DEPATURE_HR', 'SCHEDULED_ARRIVAL_HR', 'AIRLINE_CODE', 'PRESSURE', 'PRESSURE_DEST', 'ORIGIN_AIRPORT_CODE', 'RH_DEST', 'RH', 'DESTINATION_AIRPORT_CODE', 'DEWPT_DEST', 'DEWPT', 'CATEGORY']]"
   ]
  },
  {
   "cell_type": "code",
   "execution_count": null,
   "metadata": {},
   "outputs": [],
   "source": [
    "#save as csv\n",
    "df.to_csv('../datasets/df_flight_weather_10.csv', index=False)"
   ]
  },
  {
   "cell_type": "code",
   "execution_count": null,
   "metadata": {},
   "outputs": [],
   "source": [
    "#plot split of CATEGORY\n",
    "\n",
    "import matplotlib.pyplot as plt\n",
    "import seaborn as sns\n",
    "\n",
    "sns.countplot(x='CATEGORY', data=df)\n",
    "plt.show()"
   ]
  }
 ],
 "metadata": {
  "kernelspec": {
   "display_name": "env",
   "language": "python",
   "name": "python3"
  },
  "language_info": {
   "name": "python",
   "version": "3.10.6"
  },
  "orig_nbformat": 4
 },
 "nbformat": 4,
 "nbformat_minor": 2
}
