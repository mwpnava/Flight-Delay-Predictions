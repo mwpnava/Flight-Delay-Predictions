{
 "cells": [
  {
   "cell_type": "code",
   "execution_count": 31,
   "metadata": {},
   "outputs": [],
   "source": [
    "import pandas as pd"
   ]
  },
  {
   "cell_type": "code",
   "execution_count": 32,
   "metadata": {},
   "outputs": [
    {
     "name": "stderr",
     "output_type": "stream",
     "text": [
      "C:\\Users\\tccox\\AppData\\Local\\Temp\\ipykernel_21540\\240856079.py:1: DtypeWarning: Columns (4,5,26,28,29,39,40,43,46,47,49,50,60,61,64,67,68) have mixed types. Specify dtype option on import or set low_memory=False.\n",
      "  df = pd.read_csv('../datasets/df_flight_weather_5.csv')\n"
     ]
    }
   ],
   "source": [
    "df = pd.read_csv('../datasets/df_flight_weather_5.csv')"
   ]
  },
  {
   "cell_type": "code",
   "execution_count": 33,
   "metadata": {},
   "outputs": [],
   "source": [
    "#rename DAY to DAY_OF_MONTH\n",
    "df.rename(columns={'DAY':'DAY_OF_MONTH'}, inplace=True)"
   ]
  },
  {
   "cell_type": "code",
   "execution_count": 34,
   "metadata": {},
   "outputs": [],
   "source": [
    "#RENAME ALL COLUMNS to upper case\n",
    "df.columns = map(str.upper, df.columns)"
   ]
  },
  {
   "cell_type": "code",
   "execution_count": 35,
   "metadata": {},
   "outputs": [],
   "source": [
    "#create a column time_of_day_min which is the minute of the day of 'SCHEDULED_DEPARTURE', assuming SCHEDULED_DEPARTURE is in hh:mm format\n",
    "#create a column time_of_day__min_dest which is the minute of the week of 'SCHEDULED_ARRIVAL' assuming SCHEDULED_ARRIVAL is in hh:mm format\n",
    "\n",
    "df['SCHEDULED_DEPATURE_HR'] = df['SCHEDULED_DEPARTURE'].str.split(':').str[0].astype(int)\n",
    "df['SCHEDULED_ARRIVAL_HR'] = df['SCHEDULED_ARRIVAL'].str.split(':').str[0].astype(int)\n"
   ]
  },
  {
   "cell_type": "code",
   "execution_count": 36,
   "metadata": {},
   "outputs": [],
   "source": [
    "#rename DEPARTURE_DELAY to DEPARTURE_DELAY_MIN\n",
    "df.rename(columns={'DEPARTURE_DELAY':'DEPARTURE_DELAY_MIN'}, inplace=True)\n",
    "#rename ARRIVAL_DELAY to ARRIVAL_DELAY_MIN\n",
    "df.rename(columns={'ARRIVAL_DELAY':'ARRIVAL_DELAY_MIN'}, inplace=True)"
   ]
  },
  {
   "cell_type": "code",
   "execution_count": 37,
   "metadata": {},
   "outputs": [
    {
     "name": "stdout",
     "output_type": "stream",
     "text": [
      "['ACTUAL_ARRIVAL_TS', 'ACTUAL_DEPARTURE_TS', 'AIRLINE', 'AIRPORT', 'AIR_TIME', 'ARRIVAL_DELAY_MIN', 'ARRIVAL_TIME', 'CLDS', 'CLDS_DEST', 'DAY_IND', 'DAY_IND_DEST', 'DAY_OF_MONTH', 'DAY_OF_WEEK', 'DAY_OF_YEAR', 'DEPARTURE_DELAY_MIN', 'DEPARTURE_TIME', 'DESTINATION_AIRPORT', 'DEWPT', 'DEWPT_DEST', 'DISTANCE', 'ELAPSED_TIME', 'FEELS_LIKE', 'FEELS_LIKE_DEST', 'HEAT_INDEX', 'HEAT_INDEX_DEST', 'ICON_EXTD', 'ICON_EXTD_DEST', 'MONTH', 'ORIGIN_AIRPORT', 'PRECIP_HRLY', 'PRECIP_HRLY_DEST', 'PRESSURE', 'PRESSURE_DEST', 'RH', 'RH_DEST', 'SCHEDULED_ARRIVAL', 'SCHEDULED_ARRIVAL_HR', 'SCHEDULED_ARRIVAL_TS', 'SCHEDULED_DEPARTURE', 'SCHEDULED_DEPARTURE_TS', 'SCHEDULED_DEPATURE_HR', 'SCHEDULED_TIME', 'TAXI_IN', 'TAXI_OUT', 'TEMP', 'TEMP_DEST', 'TIMESTAMP_HR', 'TIME_OF_DAY', 'TIME_OF_DAY_DEST', 'UV_DESC', 'UV_DESC_DEST', 'UV_INDEX', 'UV_INDEX_DEST', 'VALID_TIME_GMT', 'VALID_TIME_GMT_DEST', 'VIS', 'VIS_DEST', 'WC', 'WC_DEST', 'WDIR', 'WDIR_CARDINAL', 'WDIR_CARDINAL_DEST', 'WDIR_DEST', 'WHEELS_OFF', 'WHEELS_ON', 'WSPD', 'WSPD_DEST', 'WX_ICON', 'WX_ICON_DEST', 'WX_PHRASE_SIMPLE', 'WX_PHRASE_SIMPLE_DEST']\n"
     ]
    }
   ],
   "source": [
    "#print columns, sort alphabetically\n",
    "print(sorted(df.columns))"
   ]
  },
  {
   "cell_type": "code",
   "execution_count": 38,
   "metadata": {},
   "outputs": [],
   "source": [
    "#delete columns ACTUAL_DEPARTURE_TS, ACTUAL_ARRIVAL_TS, ACTUAL_DEPARTURE_HR, ACTUAL_ARRIVAL_HR\n",
    "cols = ['ACTUAL_DEPARTURE_TS', 'ACTUAL_ARRIVAL_TS', 'VALID_TIME_GMT_DEST', 'VALID_TIME_GMT',\n",
    "        'SCHEDULED_DEPARTURE_TS', 'SCHEDULED_ARRIVAL_TS', 'TIMESTAMP_HR', 'AIRPORT', 'TIME_OF_DAY', 'SCHEDULED_ARRIVAL',\n",
    "        'SCHEDULED_DEPARTURE', 'SCHEDULED_TIME']\n",
    "for col in cols:\n",
    "    if col in df.columns:\n",
    "        df.drop(col, axis=1, inplace=True)\n",
    "\n"
   ]
  },
  {
   "cell_type": "code",
   "execution_count": 39,
   "metadata": {},
   "outputs": [
    {
     "name": "stdout",
     "output_type": "stream",
     "text": [
      "['AIRLINE', 'AIR_TIME', 'ARRIVAL_DELAY_MIN', 'ARRIVAL_TIME', 'CLDS', 'CLDS_DEST', 'DAY_IND', 'DAY_IND_DEST', 'DAY_OF_MONTH', 'DAY_OF_WEEK', 'DAY_OF_YEAR', 'DEPARTURE_DELAY_MIN', 'DEPARTURE_TIME', 'DESTINATION_AIRPORT', 'DEWPT', 'DEWPT_DEST', 'DISTANCE', 'ELAPSED_TIME', 'FEELS_LIKE', 'FEELS_LIKE_DEST', 'HEAT_INDEX', 'HEAT_INDEX_DEST', 'ICON_EXTD', 'ICON_EXTD_DEST', 'MONTH', 'ORIGIN_AIRPORT', 'PRECIP_HRLY', 'PRECIP_HRLY_DEST', 'PRESSURE', 'PRESSURE_DEST', 'RH', 'RH_DEST', 'SCHEDULED_ARRIVAL_HR', 'SCHEDULED_DEPATURE_HR', 'TAXI_IN', 'TAXI_OUT', 'TEMP', 'TEMP_DEST', 'TIME_OF_DAY_DEST', 'UV_DESC', 'UV_DESC_DEST', 'UV_INDEX', 'UV_INDEX_DEST', 'VIS', 'VIS_DEST', 'WC', 'WC_DEST', 'WDIR', 'WDIR_CARDINAL', 'WDIR_CARDINAL_DEST', 'WDIR_DEST', 'WHEELS_OFF', 'WHEELS_ON', 'WSPD', 'WSPD_DEST', 'WX_ICON', 'WX_ICON_DEST', 'WX_PHRASE_SIMPLE', 'WX_PHRASE_SIMPLE_DEST']\n"
     ]
    }
   ],
   "source": [
    "print(sorted(df.columns))"
   ]
  },
  {
   "cell_type": "code",
   "execution_count": 40,
   "metadata": {},
   "outputs": [
    {
     "name": "stdout",
     "output_type": "stream",
     "text": [
      "['DEPARTURE_TIME', 'ARRIVAL_TIME', 'TIME_OF_DAY_DEST']\n"
     ]
    }
   ],
   "source": [
    "'''\n",
    "DATE INFO: DAY_OF_MONTH, DAY_OF_WEEK, DAY_OF_YEAR, SCHEDULED_DEPATURE_HR, SCHEDULED_ARRIVAL_HR, MONTH,\n",
    "\n",
    "WEATHER INFO: (add _DEST to all of these for destination info) CLDS, DAY_IND, DEWPT, FEELS_LIKE, HEAT_INDEX, ICON_EXTD, PRECIP_HRLY, PRESSURE, RH, TEMP, UV_DESC, UV_INDEX, VIS, WC, WDIR, WDIR_CARDINAL, WSPD, WX_ICON, WX_PHRASE_SIMPLE\n",
    "\n",
    "FLIGHT INFO: AIRLINE, AIR_TIME, WHEELS_ON, TAXI_OUT, TAXI_IN, WHEELS_OFF\n",
    "'''\n",
    "\n",
    "#print missing columns not listed above\n",
    "date_info_cols = ['DAY_OF_MONTH', 'DAY_OF_WEEK', 'DAY_OF_YEAR', 'SCHEDULED_DEPATURE_HR', 'SCHEDULED_ARRIVAL_HR', 'MONTH']\n",
    "weather_info_cols = ['CLDS', 'DAY_IND', 'DEWPT', 'FEELS_LIKE', 'HEAT_INDEX', 'ICON_EXTD', 'PRECIP_HRLY', 'PRESSURE', 'RH', 'TEMP', 'UV_DESC', 'UV_INDEX', 'VIS', 'WC', 'WDIR', 'WDIR_CARDINAL', 'WSPD', 'WX_ICON', 'WX_PHRASE_SIMPLE']\n",
    "#for each col in weather_info_cols add _DEST to the end for new column\n",
    "weather_info_cols_dest = []\n",
    "for col in weather_info_cols:\n",
    "    weather_info_cols_dest.append(col + '_DEST')\n",
    "\n",
    "weather_info_cols = weather_info_cols + weather_info_cols_dest\n",
    "flight_info_cols = ['AIRLINE', 'AIR_TIME', 'WHEELS_ON', 'TAXI_OUT', 'TAXI_IN', 'WHEELS_OFF', 'ORIGIN_AIRPORT', 'DESTINATION_AIRPORT', 'DISTANCE', 'ELAPSED_TIME', 'DEPARTURE_DELAY_MIN', 'ARRIVAL_DELAY_MIN']\n",
    "cols = []\n",
    "for col in df.columns:\n",
    "    if col not in date_info_cols and col not in weather_info_cols and col not in flight_info_cols:\n",
    "        cols.append(col)\n",
    "\n",
    "if len(cols) > 0:\n",
    "    print(cols)"
   ]
  },
  {
   "cell_type": "code",
   "execution_count": 41,
   "metadata": {},
   "outputs": [],
   "source": [
    "\n",
    "del_cols = ['ARRIVAL_TIME', 'DEPARTURE_TIME', 'TIME_OF_DAY_DEST']\n",
    "for col in del_cols:\n",
    "    if col in df.columns:\n",
    "        df.drop(col, axis=1, inplace=True)"
   ]
  },
  {
   "cell_type": "code",
   "execution_count": 42,
   "metadata": {},
   "outputs": [
    {
     "name": "stdout",
     "output_type": "stream",
     "text": [
      "5457275\n"
     ]
    }
   ],
   "source": [
    "#print total number of rows\n",
    "print(len(df))"
   ]
  },
  {
   "cell_type": "code",
   "execution_count": 43,
   "metadata": {},
   "outputs": [
    {
     "name": "stdout",
     "output_type": "stream",
     "text": [
      "MONTH 0\n",
      "DAY_OF_MONTH 0\n",
      "DAY_OF_WEEK 0\n",
      "AIRLINE 0\n",
      "ORIGIN_AIRPORT 0\n",
      "DESTINATION_AIRPORT 0\n",
      "DEPARTURE_DELAY_MIN 0\n",
      "TAXI_OUT 0\n",
      "WHEELS_OFF 0\n",
      "ELAPSED_TIME 0\n",
      "AIR_TIME 0\n",
      "DISTANCE 0\n",
      "WHEELS_ON 0\n",
      "TAXI_IN 0\n",
      "ARRIVAL_DELAY_MIN 0\n",
      "DAY_OF_YEAR 0\n",
      "DAY_IND 477972\n",
      "TEMP 477972\n",
      "WX_ICON 477972\n",
      "ICON_EXTD 477972\n",
      "DEWPT 477972\n",
      "HEAT_INDEX 477972\n",
      "RH 477972\n",
      "PRESSURE 477972\n",
      "VIS 477972\n",
      "WC 477972\n",
      "WDIR 477972\n",
      "WDIR_CARDINAL 477972\n",
      "WSPD 477972\n",
      "PRECIP_HRLY 477972\n",
      "UV_DESC 477972\n",
      "FEELS_LIKE 477972\n",
      "UV_INDEX 477972\n",
      "CLDS 477972\n",
      "WX_PHRASE_SIMPLE 477972\n",
      "DAY_IND_DEST 477953\n",
      "TEMP_DEST 477953\n",
      "WX_ICON_DEST 477953\n",
      "ICON_EXTD_DEST 477953\n",
      "DEWPT_DEST 477953\n",
      "HEAT_INDEX_DEST 477953\n",
      "RH_DEST 477953\n",
      "PRESSURE_DEST 477953\n",
      "VIS_DEST 477953\n",
      "WC_DEST 477953\n",
      "WDIR_DEST 477953\n",
      "WDIR_CARDINAL_DEST 477953\n",
      "WSPD_DEST 477953\n",
      "PRECIP_HRLY_DEST 477953\n",
      "UV_DESC_DEST 477953\n",
      "FEELS_LIKE_DEST 477953\n",
      "UV_INDEX_DEST 477953\n",
      "CLDS_DEST 477953\n",
      "WX_PHRASE_SIMPLE_DEST 477953\n",
      "SCHEDULED_DEPATURE_HR 0\n",
      "SCHEDULED_ARRIVAL_HR 0\n"
     ]
    }
   ],
   "source": [
    "#for each col print count of missing values\n",
    "null_vals = {}\n",
    "for col in df.columns:\n",
    "    null_vals[col] = df[col].isnull().sum()\n",
    "\n",
    "for key, value in null_vals.items():\n",
    "    print(key, value)"
   ]
  },
  {
   "cell_type": "code",
   "execution_count": 44,
   "metadata": {},
   "outputs": [
    {
     "name": "stdout",
     "output_type": "stream",
     "text": [
      "MONTH 12\n",
      "DAY_OF_MONTH 31\n",
      "DAY_OF_WEEK 7\n",
      "AIRLINE 14\n",
      "ORIGIN_AIRPORT 923\n",
      "DESTINATION_AIRPORT 921\n",
      "DEPARTURE_DELAY_MIN 1175\n",
      "TAXI_OUT 182\n",
      "WHEELS_OFF 1439\n",
      "ELAPSED_TIME 712\n",
      "AIR_TIME 675\n",
      "DISTANCE 1347\n",
      "WHEELS_ON 1438\n",
      "TAXI_IN 179\n",
      "ARRIVAL_DELAY_MIN 1195\n",
      "DAY_OF_YEAR 365\n",
      "DAY_IND 3\n",
      "TEMP 165\n",
      "WX_ICON 32\n",
      "ICON_EXTD 120\n",
      "DEWPT 126\n",
      "HEAT_INDEX 153\n",
      "RH 101\n",
      "PRESSURE 893\n",
      "VIS 26\n",
      "WC 186\n",
      "WDIR 42\n",
      "WDIR_CARDINAL 20\n",
      "WSPD 57\n",
      "PRECIP_HRLY 108\n",
      "UV_DESC 6\n",
      "FEELS_LIKE 187\n",
      "UV_INDEX 17\n",
      "CLDS 7\n",
      "WX_PHRASE_SIMPLE 17\n",
      "DAY_IND_DEST 3\n",
      "TEMP_DEST 165\n",
      "WX_ICON_DEST 33\n",
      "ICON_EXTD_DEST 122\n",
      "DEWPT_DEST 125\n",
      "HEAT_INDEX_DEST 154\n",
      "RH_DEST 101\n",
      "PRESSURE_DEST 896\n",
      "VIS_DEST 30\n",
      "WC_DEST 186\n",
      "WDIR_DEST 44\n",
      "WDIR_CARDINAL_DEST 20\n",
      "WSPD_DEST 56\n",
      "PRECIP_HRLY_DEST 119\n",
      "UV_DESC_DEST 6\n",
      "FEELS_LIKE_DEST 186\n",
      "UV_INDEX_DEST 17\n",
      "CLDS_DEST 7\n",
      "WX_PHRASE_SIMPLE_DEST 17\n",
      "SCHEDULED_DEPATURE_HR 24\n",
      "SCHEDULED_ARRIVAL_HR 24\n"
     ]
    }
   ],
   "source": [
    "#print len of unique values for each column\n",
    "unique_vals = {}\n",
    "for col in df.columns:\n",
    "    unique_vals[col] = len(df[col].unique())\n",
    "\n",
    "for key, value in unique_vals.items():\n",
    "    print(key, value)"
   ]
  },
  {
   "cell_type": "code",
   "execution_count": 45,
   "metadata": {},
   "outputs": [],
   "source": [
    "#for na values for categorical columns, replace with 'NA'\n",
    "for col in df.columns:\n",
    "    if df[col].dtype == 'object':\n",
    "        df[col].fillna('NA', inplace=True)\n",
    "#for na values of numeric columns, replace with std"
   ]
  },
  {
   "cell_type": "code",
   "execution_count": 46,
   "metadata": {},
   "outputs": [
    {
     "name": "stderr",
     "output_type": "stream",
     "text": [
      "C:\\Users\\tccox\\AppData\\Local\\Temp\\ipykernel_21540\\2744685404.py:2: FutureWarning: The default value of regex will change from True to False in a future version.\n",
      "  df['ORIGIN_AIRPORT'] = df['ORIGIN_AIRPORT'].str.replace(r'\\d+', '')\n",
      "C:\\Users\\tccox\\AppData\\Local\\Temp\\ipykernel_21540\\2744685404.py:3: FutureWarning: The default value of regex will change from True to False in a future version.\n",
      "  df['DESTINATION_AIRPORT'] = df['DESTINATION_AIRPORT'].str.replace(r'\\d+', '')\n"
     ]
    }
   ],
   "source": [
    "#remove all numeriv values from ORIGIN_AIRPORT and DESTINATION_AIRPORT\n",
    "df['ORIGIN_AIRPORT'] = df['ORIGIN_AIRPORT'].str.replace(r'\\d+', '')\n",
    "df['DESTINATION_AIRPORT'] = df['DESTINATION_AIRPORT'].str.replace(r'\\d+', '')\n",
    "#if nan drop or '' in ORIGIN_AIRPORT and DESTINATION_AIRPORT, drop\n",
    "df.dropna(subset=['ORIGIN_AIRPORT', 'DESTINATION_AIRPORT'], inplace=True)\n",
    "df = df[df['ORIGIN_AIRPORT'] != '']\n",
    "df = df[df['DESTINATION_AIRPORT'] != '']\n"
   ]
  },
  {
   "cell_type": "code",
   "execution_count": 47,
   "metadata": {},
   "outputs": [
    {
     "name": "stdout",
     "output_type": "stream",
     "text": [
      "['LAX' 'SFO' 'SEA' 'LAS' 'DEN' 'SLC' 'ANC' 'PDX' 'FAI' 'MSP' 'PHX' 'SJU'\n",
      " 'PBG' 'IAG' 'PSE' 'BQN' 'ORD' 'GEG' 'HNL' 'ONT' 'MCO' 'BOS' 'HIB' 'ABR'\n",
      " 'DFW' 'MKE' 'IAH' 'BNA' 'BRO' 'VPS' 'BOI' 'BJI' 'PHL' 'EUG' 'IAD' 'BUF'\n",
      " 'PWM' 'JFK' 'CRP' 'PIA' 'FAT' 'SMF' 'AUS' 'MCI' 'ATL' 'JAX' 'MFR' 'IDA'\n",
      " 'MSN' 'DCA' 'SAT' 'CHS' 'SBA' 'IND' 'CLE' 'GSP' 'BDL' 'RIC' 'BFL' 'OMA'\n",
      " 'RDM' 'FLL' 'CID' 'TPA' 'SYR' 'ROC' 'TYR' 'LAN' 'GSO' 'EWR' 'PBI' 'RSW'\n",
      " 'OAK' 'PVD' 'RNO' 'PIT' 'ABQ' 'MIA' 'BWI' 'TUL' 'LGA' 'LIT' 'MSY' 'OKC'\n",
      " 'ATW' 'PNS' 'MEM' 'TYS' 'MHT' 'SAV' 'CLT' 'GRB' 'ABE' 'JAN' 'OAJ' 'FAR'\n",
      " 'ERI' 'LEX' 'CWA' 'TTN' 'RDU' 'CVG' 'BHM' 'ACY' 'DTW' 'RAP' 'TUS' 'EAU'\n",
      " 'DLH' 'FSD' 'INL' 'SPI' 'CLD' 'COD' 'CMH' 'PSC' 'CPR' 'ACV' 'DAL' 'PAH'\n",
      " 'MRY' 'ESC' 'ISN' 'PSP' 'CAE' 'STL' 'BTV' 'MTJ' 'GCC' 'OGG' 'SJC' 'GUC'\n",
      " 'ORF' 'MOT' 'MLU' 'KOA' 'HOU' 'MOB' 'SAN' 'LAW' 'PIB' 'MGM' 'SBP' 'COS'\n",
      " 'LAR' 'DRO' 'BIS' 'ITO' 'BTR' 'HLN' 'BZN' 'MDW' 'MDT' 'SCE' 'LIH' 'TWF'\n",
      " 'BPT' 'GPT' 'STC' 'HPN' 'MLB' 'PLN' 'CIU' 'CAK' 'DSM' 'BLI' 'SHV' 'SNA'\n",
      " 'ALB' 'LNK' 'CMI' 'GTF' 'EKO' 'LGB' 'AVL' 'HSV' 'XNA' 'SUX' 'HYS' 'MFE'\n",
      " 'ISP' 'BUR' 'DAB' 'DAY' 'LFT' 'LBE' 'ASE' 'GUM' 'TVC' 'ALO' 'TLH' 'ELP'\n",
      " 'MHK' 'IMT' 'JNU' 'JAC' 'MEI' 'DBQ' 'GNV' 'BRD' 'DIK' 'SDF' 'LBB' 'AVP'\n",
      " 'SGF' 'COU' 'BTM' 'ELM' 'RKS' 'PIH' 'SUN' 'LWS' 'VEL' 'STT' 'SAF' 'YUM'\n",
      " 'FCA' 'GRR' 'HDN' 'ROA' 'CHA' 'EYW' 'MYR' 'CRW' 'MQT' 'CHO' 'GJT' 'FWA'\n",
      " 'ECP' 'EVV' 'MSO' 'EGE' 'AMA' 'MLI' 'MBS' 'GFK' 'GRK' 'BIL' 'OTZ' 'KTN'\n",
      " 'STX' 'ILM' 'PUB' 'RHI' 'SBN' 'CDC' 'HRL' 'SCC' 'FNT' 'LSE' 'MMH' 'ACT'\n",
      " 'FSM' 'AGS' 'CEC' 'ICT' 'AEX' 'DHN' 'LRD' 'WRG' 'PHF' 'CNY' 'BRW' 'GGG'\n",
      " 'CLL' 'SRQ' 'ORH' 'FLG' 'TRI' 'VLD' 'SIT' 'BQK' 'BMI' 'PSG' 'FAY' 'CSG'\n",
      " 'MAF' 'EWN' 'OME' 'CMX' 'JMS' 'SGU' 'RST' 'GTR' 'BET' 'TOL' 'APN' 'SMX'\n",
      " 'LCH' 'RDD' 'GCK' 'DVL' 'GRI' 'ABY' 'SWF' 'ILG' 'JLN' 'ADK' 'UST' 'TXK'\n",
      " 'SPS' 'AZO' 'ABI' 'YAK' 'SJT' 'CDV' 'OTH' 'ADQ' 'MKG' 'ROW' 'HOB' 'BGM'\n",
      " 'BGR' 'ITH' 'ACK' 'MVY' 'WYS' 'DLG' 'AKN' 'GST' 'HYA']\n"
     ]
    }
   ],
   "source": [
    "#print values of ORIGIN_AIRPORT and DESTINATION_AIRPORT\n",
    "print(df['ORIGIN_AIRPORT'].unique())"
   ]
  },
  {
   "cell_type": "code",
   "execution_count": 48,
   "metadata": {},
   "outputs": [
    {
     "name": "stdout",
     "output_type": "stream",
     "text": [
      "MONTH 11\n",
      "DAY_OF_MONTH 31\n",
      "DAY_OF_WEEK 7\n",
      "AIRLINE 14\n",
      "ORIGIN_AIRPORT 321\n",
      "DESTINATION_AIRPORT 321\n",
      "DEPARTURE_DELAY_MIN 1156\n",
      "TAXI_OUT 182\n",
      "WHEELS_OFF 1439\n",
      "ELAPSED_TIME 711\n",
      "AIR_TIME 675\n",
      "DISTANCE 1347\n",
      "WHEELS_ON 1438\n",
      "TAXI_IN 179\n",
      "ARRIVAL_DELAY_MIN 1176\n",
      "DAY_OF_YEAR 334\n",
      "DAY_IND 3\n",
      "TEMP 165\n",
      "WX_ICON 32\n",
      "ICON_EXTD 120\n",
      "DEWPT 126\n",
      "HEAT_INDEX 153\n",
      "RH 101\n",
      "PRESSURE 893\n",
      "VIS 26\n",
      "WC 186\n",
      "WDIR 42\n",
      "WDIR_CARDINAL 20\n",
      "WSPD 57\n",
      "PRECIP_HRLY 108\n",
      "UV_DESC 6\n",
      "FEELS_LIKE 187\n",
      "UV_INDEX 17\n",
      "CLDS 7\n",
      "WX_PHRASE_SIMPLE 17\n",
      "DAY_IND_DEST 3\n",
      "TEMP_DEST 165\n",
      "WX_ICON_DEST 33\n",
      "ICON_EXTD_DEST 122\n",
      "DEWPT_DEST 125\n",
      "HEAT_INDEX_DEST 154\n",
      "RH_DEST 101\n",
      "PRESSURE_DEST 896\n",
      "VIS_DEST 30\n",
      "WC_DEST 186\n",
      "WDIR_DEST 44\n",
      "WDIR_CARDINAL_DEST 20\n",
      "WSPD_DEST 56\n",
      "PRECIP_HRLY_DEST 119\n",
      "UV_DESC_DEST 6\n",
      "FEELS_LIKE_DEST 186\n",
      "UV_INDEX_DEST 17\n",
      "CLDS_DEST 7\n",
      "WX_PHRASE_SIMPLE_DEST 17\n",
      "SCHEDULED_DEPATURE_HR 24\n",
      "SCHEDULED_ARRIVAL_HR 24\n"
     ]
    }
   ],
   "source": [
    "#print len of unique values for each column\n",
    "unique_vals = {}\n",
    "for col in df.columns:\n",
    "    unique_vals[col] = len(df[col].unique())\n",
    "\n",
    "for key, value in unique_vals.items():\n",
    "    print(key, value)"
   ]
  },
  {
   "cell_type": "code",
   "execution_count": 49,
   "metadata": {},
   "outputs": [
    {
     "name": "stdout",
     "output_type": "stream",
     "text": [
      "4992120\n"
     ]
    }
   ],
   "source": [
    "#print len of df\n",
    "print(len(df))"
   ]
  },
  {
   "cell_type": "code",
   "execution_count": 52,
   "metadata": {},
   "outputs": [
    {
     "name": "stdout",
     "output_type": "stream",
     "text": [
      "DEPARTURE_DELAY_MIN\n",
      "ARRIVAL_DELAY_MIN\n",
      "ELAPSED_TIME\n",
      "ICON_EXTD_DEST\n",
      "ICON_EXTD\n",
      "PRESSURE\n",
      "PRESSURE_DEST\n",
      "TAXI_IN\n",
      "TAXI_OUT\n",
      "VIS\n",
      "VIS_DEST\n",
      "WSPD\n",
      "WSPD_DEST\n",
      "PRECIP_HRLY\n",
      "PRECIP_HRLY_DEST\n"
     ]
    }
   ],
   "source": [
    "#keep only 3 std deviations from mean of these columns\n",
    "# cols : DEPATURE_DELAY_MIN, AIR_TIME, ARRIVAL_DELAY_MIN, DEWPT, DEWPT_DEST, FEELS_LIKE, FEELS_LIKE_DEST, HEAT_INDEX, HEAT_INDEX_DEST, PRECIP_HRLY, PRECIP_HRLY_DEST, RH, RH_DEST, TEMP, TEMP_DEST, UV_INDEX, UV_INDEX_DEST, VIS, VIS_DEST, WSPD, WSPD_DEST, DISTANCE, ELAPSED_TIME, FEELS_LIKE, VIS, VIS_DEST, WC, WC_DEST\n",
    "\n",
    "cols = ['DEPARTURE_DELAY_MIN', \n",
    "        'ARRIVAL_DELAY_MIN',\n",
    "        'ELAPSED_TIME',\n",
    "        'ICON_EXTD_DEST',\n",
    "        'ICON_EXTD',\n",
    "        'PRESSURE',\n",
    "        'PRESSURE_DEST',\n",
    "        'TAXI_IN',\n",
    "        'TAXI_OUT',\n",
    "        'VIS',\n",
    "        'VIS_DEST',\n",
    "        'WSPD',\n",
    "        'WSPD_DEST',\n",
    "        'PRECIP_HRLY',\n",
    "        'PRECIP_HRLY_DEST',\n",
    "]\n",
    "\n",
    "for col in cols:\n",
    "    print(col)\n",
    "    mean = df[col].mean()\n",
    "    std = df[col].std()\n",
    "    df = df[(df[col] > mean - 3 * std) & (df[col] < mean + 3 * std)]\n"
   ]
  },
  {
   "cell_type": "code",
   "execution_count": 56,
   "metadata": {},
   "outputs": [],
   "source": [
    "#remove PRECIP_HRLY, and RECIP_HRLY_DEST\n",
    "if 'PRECIP_HRLY' in df.columns:\n",
    "    df.drop('PRECIP_HRLY', axis=1, inplace=True)\n",
    "if 'PRECIP_HRLY_DEST' in df.columns:\n",
    "    df.drop('PRECIP_HRLY_DEST', axis=1, inplace=True)"
   ]
  },
  {
   "cell_type": "code",
   "execution_count": 53,
   "metadata": {},
   "outputs": [],
   "source": [
    "#make a new column called ARRIVAL_DELAY_MIN_CAT, where every 5 minutes is a category\n",
    "df['ARRIVAL_DELAY_MIN_CAT'] = df['ARRIVAL_DELAY_MIN'].apply(lambda x: int(x / 5) * 5)"
   ]
  },
  {
   "cell_type": "code",
   "execution_count": 54,
   "metadata": {},
   "outputs": [],
   "source": [
    "#create a new folder called ds5 in feature_analysis folder if it doesn't exist\n",
    "import os\n",
    "if not os.path.exists('../feature_analysis/ds5'):\n",
    "    os.makedirs('../feature_analysis/ds5')\n",
    "\n",
    "#for each column, create a histogram and save it in the ds5 folder\n",
    "import matplotlib.pyplot as plt\n",
    "for col in df.columns:\n",
    "    if df[col].dtype == 'object':\n",
    "        plt.figure(figsize=(20, 10))\n",
    "        plt.hist(df[col])\n",
    "        plt.title(col)\n",
    "        plt.savefig('../feature_analysis/ds5/' + col + '.png')\n",
    "        plt.close()\n",
    "    else:\n",
    "        plt.figure(figsize=(20, 10))\n",
    "        plt.hist(df[col].dropna())\n",
    "        plt.title(col)\n",
    "        plt.savefig('../feature_analysis/ds5/' + col + '.png')\n",
    "        plt.close()"
   ]
  },
  {
   "cell_type": "code",
   "execution_count": 57,
   "metadata": {},
   "outputs": [],
   "source": [
    "df.to_csv('../datasets/df_flight_weather_6.csv', index=False)"
   ]
  }
 ],
 "metadata": {
  "kernelspec": {
   "display_name": "env",
   "language": "python",
   "name": "python3"
  },
  "language_info": {
   "codemirror_mode": {
    "name": "ipython",
    "version": 3
   },
   "file_extension": ".py",
   "mimetype": "text/x-python",
   "name": "python",
   "nbconvert_exporter": "python",
   "pygments_lexer": "ipython3",
   "version": "3.10.6"
  },
  "orig_nbformat": 4
 },
 "nbformat": 4,
 "nbformat_minor": 2
}
