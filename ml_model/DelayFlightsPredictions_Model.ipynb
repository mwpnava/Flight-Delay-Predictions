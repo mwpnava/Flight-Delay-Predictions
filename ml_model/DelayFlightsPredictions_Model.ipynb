{
 "cells": [
  {
   "cell_type": "markdown",
   "id": "6bf05c7c",
   "metadata": {},
   "source": [
    "# Flight Delays Predictions ML Model"
   ]
  },
  {
   "cell_type": "code",
   "execution_count": 1,
   "id": "e5500636",
   "metadata": {},
   "outputs": [],
   "source": [
    "import pandas as pd\n",
    "import numpy as np\n",
    "import seaborn as sns\n",
    "import calendar\n",
    "import matplotlib.pyplot as plt\n",
    "\n",
    "from sklearn.metrics import classification_report,confusion_matrix\n",
    "from sklearn.metrics import accuracy_score\n",
    "from sklearn.ensemble import RandomForestClassifier\n",
    "from sklearn.model_selection import train_test_split\n",
    "from sklearn import metrics\n",
    "\n",
    "from collections import Counter\n",
    "from imblearn.combine import SMOTEENN \n",
    "\n",
    "import pickle"
   ]
  },
  {
   "cell_type": "markdown",
   "id": "cfb5a076",
   "metadata": {},
   "source": [
    "## Loading Data"
   ]
  },
  {
   "cell_type": "code",
   "execution_count": 2,
   "id": "b4dc4e51",
   "metadata": {},
   "outputs": [],
   "source": [
    "file = './data/df_flight_weather_8.csv'\n",
    "df_original = pd.read_csv(file)\n",
    "df = pd.read_csv(file)"
   ]
  },
  {
   "cell_type": "code",
   "execution_count": 3,
   "id": "54248e03",
   "metadata": {},
   "outputs": [],
   "source": [
    "min_delayed = 0\n",
    "conditions = [\n",
    "    df['ARRIVAL_DELAY_MIN'] > min_delayed,\n",
    "    df['ARRIVAL_DELAY_MIN'] <= min_delayed,\n",
    "    df['ARRIVAL_DELAY_MIN'].isna()\n",
    "]\n",
    "\n",
    "results = ['DELAYED', 'ON_TIME', 'OTHER'] \n",
    "\n",
    "df['STATUS'] = pd.Series(np.select(conditions, results, 'OTHER'))\n",
    "\n",
    "df['CATEGORY'] = pd.Series(np.select([df['STATUS']=='DELAYED', df['STATUS']=='ON_TIME'], [1, 0], -1))"
   ]
  },
  {
   "cell_type": "markdown",
   "id": "44662412",
   "metadata": {},
   "source": [
    "## Exploring Data"
   ]
  },
  {
   "cell_type": "code",
   "execution_count": 5,
   "id": "7afe5779",
   "metadata": {},
   "outputs": [
    {
     "data": {
      "text/plain": [
       "ON_TIME    2453956\n",
       "DELAYED    1078698\n",
       "Name: STATUS, dtype: int64"
      ]
     },
     "execution_count": 5,
     "metadata": {},
     "output_type": "execute_result"
    }
   ],
   "source": [
    "df.STATUS.value_counts()"
   ]
  },
  {
   "cell_type": "code",
   "execution_count": 6,
   "id": "fb8feb7a",
   "metadata": {},
   "outputs": [
    {
     "name": "stdout",
     "output_type": "stream",
     "text": [
      "Proportions: 0.3053505947652954, 0.6946494052347045\n"
     ]
    }
   ],
   "source": [
    "total = df['STATUS'].count()\n",
    "\n",
    "on_time =  df[(df['STATUS']=='ON_TIME')]['STATUS'].count()\n",
    "delay =  df[(df['STATUS']=='DELAYED')]['STATUS'].count()\n",
    "\n",
    "percentage_delay = delay / total\n",
    "percentage_ontime = on_time / total\n",
    "print(\"Proportions: {}, {}\".format(percentage_delay, percentage_ontime))"
   ]
  },
  {
   "cell_type": "code",
   "execution_count": 7,
   "id": "a266ad45",
   "metadata": {},
   "outputs": [
    {
     "data": {
      "text/plain": [
       "<AxesSubplot:xlabel='STATUS', ylabel='Count'>"
      ]
     },
     "execution_count": 7,
     "metadata": {},
     "output_type": "execute_result"
    },
    {
     "data": {
      "image/png": "[encoded data removed]",
      "text/plain": [
       "<Figure size 640x480 with 1 Axes>"
      ]
     },
     "metadata": {},
     "output_type": "display_data"
    }
   ],
   "source": [
    "sns.histplot(data=df, x=\"STATUS\", hue=\"STATUS\")"
   ]
  },
  {
   "cell_type": "code",
   "execution_count": 8,
   "id": "7a7e970b",
   "metadata": {},
   "outputs": [],
   "source": [
    "# Encode the object as an enumerated type or categorical variable.\n",
    "\n",
    "code_airlines, uniques_airlines = pd.factorize(df['AIRLINE'])\n",
    "df['AIRLINE_CODE'] = code_airlines\n",
    "\n",
    "code_airport, unique_airport = pd.factorize(df['ORIGIN_AIRPORT'])\n",
    "df['ORIGIN_AIRPORT_CODE'] = code_airport\n",
    "\n",
    "code_dairport, unique_dairport = pd.factorize(df['DESTINATION_AIRPORT'])\n",
    "df['DESTINATION_AIRPORT_CODE'] = code_dairport\n"
   ]
  },
  {
   "cell_type": "markdown",
   "id": "79f7930c",
   "metadata": {},
   "source": [
    "## Class Balancing"
   ]
  },
  {
   "cell_type": "code",
   "execution_count": 9,
   "id": "12830b0c",
   "metadata": {},
   "outputs": [],
   "source": [
    "X = df[['SCHEDULED_DEPATURE_HR','SCHEDULED_ARRIVAL_HR', 'AIRLINE_CODE', 'PRESSURE', \n",
    "        'PRESSURE_DEST', 'ORIGIN_AIRPORT_CODE', 'RH_DEST', 'RH', 'DESTINATION_AIRPORT_CODE',\n",
    "        'DEWPT_DEST', 'DEWPT']]\n",
    "\n",
    "y = df['CATEGORY']    "
   ]
  },
  {
   "cell_type": "code",
   "execution_count": 10,
   "id": "00a323eb",
   "metadata": {},
   "outputs": [
    {
     "name": "stdout",
     "output_type": "stream",
     "text": [
      "Resampled dataset shape Counter({1: 1460538, 0: 878900})\n"
     ]
    }
   ],
   "source": [
    "# SMOTEENN, it's a method that combines over-sampling and under-sampling. \n",
    "# It's a class to perform over-sampling using SMOTE and cleaning using ENN.\n",
    "\n",
    "sme = SMOTEENN(random_state=42)\n",
    "X_res, y_res = sme.fit_resample(X, y)\n",
    "\n",
    "X, y = X_res, y_res \n",
    "print('Resampled dataset shape %s' % Counter(y_res))"
   ]
  },
  {
   "cell_type": "markdown",
   "id": "334a456c",
   "metadata": {},
   "source": [
    "## Creating Dataset to Train ML Model"
   ]
  },
  {
   "cell_type": "code",
   "execution_count": 11,
   "id": "d5728586",
   "metadata": {},
   "outputs": [],
   "source": [
    "resampledDf = pd.concat([X, y], axis=1)\n",
    "resampledDf.to_csv('./data/resampledDF.csv')"
   ]
  },
  {
   "cell_type": "code",
   "execution_count": 16,
   "id": "664ab831",
   "metadata": {},
   "outputs": [],
   "source": [
    "# Splitting Data\n",
    "X_train, X_test, y_train, y_test = train_test_split(X, y, test_size = 0.3, random_state = 101)"
   ]
  },
  {
   "cell_type": "markdown",
   "id": "86c805ff",
   "metadata": {},
   "source": [
    "## Training & Fitting Model"
   ]
  },
  {
   "cell_type": "code",
   "execution_count": 17,
   "id": "e041b196",
   "metadata": {},
   "outputs": [],
   "source": [
    "# Creating the Random Forest model\n",
    "rfc = RandomForestClassifier(bootstrap=True, \n",
    "                             class_weight=None, \n",
    "                             criterion='gini', \n",
    "                             n_estimators=100, \n",
    "                             n_jobs=None)\n",
    "\n",
    "# Fitting the model\n",
    "rfc.fit(X_train, y_train)\n",
    "\n",
    "# Making predictions\n",
    "predictionsrfc = rfc.predict(X_test)"
   ]
  },
  {
   "cell_type": "markdown",
   "id": "8e12de2d",
   "metadata": {},
   "source": [
    "## Model Performance Metrics"
   ]
  },
  {
   "cell_type": "code",
   "execution_count": 20,
   "id": "25081678",
   "metadata": {},
   "outputs": [
    {
     "name": "stdout",
     "output_type": "stream",
     "text": [
      "Accuracy Score:0.8658 \n",
      "\n",
      "              precision    recall  f1-score   support\n",
      "\n",
      "     ON TIME       0.87      0.76      0.81    263539\n",
      "     DELAYED       0.86      0.93      0.90    438293\n",
      "\n",
      "    accuracy                           0.87    701832\n",
      "   macro avg       0.87      0.84      0.85    701832\n",
      "weighted avg       0.87      0.87      0.86    701832\n",
      "\n"
     ]
    }
   ],
   "source": [
    "# Calculating Accuracy Score\n",
    "accu_score = round(metrics.accuracy_score(y_test, predictionsrfc), 4)\n",
    "print('Accuracy Score:{} \\n'.format(accu_score))\n",
    "\n",
    "# Classification Report\n",
    "print(classification_report(y_test, predictionsrfc, target_names=[\"ON TIME\", \"DELAYED\"]))"
   ]
  },
  {
   "cell_type": "markdown",
   "id": "4b29418e",
   "metadata": {},
   "source": [
    "## Creating Pickle File (used by Streamlit code)"
   ]
  },
  {
   "cell_type": "code",
   "execution_count": 19,
   "id": "73e9ea3c",
   "metadata": {},
   "outputs": [],
   "source": [
    "# Pickle Module: Transform a complex object into a byte stream\n",
    "# Creating a pickle file to be called by streamlit code\n",
    "\n",
    "rf_pickle = open('flight_delay.pkl', 'wb')\n",
    "pickle.dump(rfc, rf_pickle)\n",
    "rf_pickle.close()"
   ]
  },
  {
   "cell_type": "code",
   "execution_count": null,
   "id": "330da381",
   "metadata": {},
   "outputs": [],
   "source": []
  }
 ],
 "metadata": {
  "kernelspec": {
   "display_name": "Python 3 (ipykernel)",
   "language": "python",
   "name": "python3"
  },
  "language_info": {
   "codemirror_mode": {
    "name": "ipython",
    "version": 3
   },
   "file_extension": ".py",
   "mimetype": "text/x-python",
   "name": "python",
   "nbconvert_exporter": "python",
   "pygments_lexer": "ipython3",
   "version": "3.9.0"
  }
 },
 "nbformat": 4,
 "nbformat_minor": 5
}
